{
 "cells": [
  {
   "cell_type": "code",
   "execution_count": 16,
   "metadata": {},
   "outputs": [],
   "source": [
    "import numpy as np\n",
    "import xarray as xr\n",
    "import sys\n",
    "import glob\n",
    "import os"
   ]
  },
  {
   "cell_type": "code",
   "execution_count": 17,
   "metadata": {},
   "outputs": [],
   "source": [
    "stat_dir = '/lustre/ytzheng/ASTEX_warm2.6/'\n",
    "dest = '/lustre/ytzheng/ASTEX_warm2.6/'"
   ]
  },
  {
   "cell_type": "code",
   "execution_count": 18,
   "metadata": {},
   "outputs": [],
   "source": [
    "Rd     = 287.              # Gas constant for dry air, J/kg/K\n",
    "Rv     = 461.              # Gas constant for water vapor, J/kg/K\n",
    "cp     = 1004.             # Specific heat of air, J/kg/K\n",
    "grav    = 9.81              # Gravity acceleration, m/s2\n",
    "Lv     = 2.5104e6          # Latent heat of condensation, J/kg"
   ]
  },
  {
   "cell_type": "code",
   "execution_count": 19,
   "metadata": {},
   "outputs": [],
   "source": [
    "# Create dictionaries for holding postprocessed variables\n",
    "data_vars = {}\n",
    "coords = {}\n",
    "attrs = {}\n",
    "\n",
    "# Open statistics files\n",
    "f = xr.open_mfdataset(stat_dir + '/*N100.nc', combine = 'by_coords', \n",
    "                         decode_cf = False)"
   ]
  },
  {
   "cell_type": "code",
   "execution_count": 20,
   "metadata": {},
   "outputs": [],
   "source": [
    "nt = f['time'].size\n",
    "nz = f['z'].size\n",
    "\n",
    "z = f['z']\n",
    "p = f['p']"
   ]
  },
  {
   "cell_type": "code",
   "execution_count": 21,
   "metadata": {},
   "outputs": [],
   "source": [
    "# Save required coordinates\n",
    "coords['z'] = f['z']\n",
    "coords['time'] = f['time']"
   ]
  },
  {
   "cell_type": "code",
   "execution_count": 22,
   "metadata": {},
   "outputs": [
    {
     "data": {
      "text/plain": [
       "<xarray.DataArray 'z' (time: 90, z: 512)>\n",
       "array([[  10.5,   22.5,   37.5, ..., 4055.5, 4182.2, 4320.9],\n",
       "       [  10.5,   22.5,   37.5, ..., 4055.5, 4182.2, 4320.9],\n",
       "       [  10.5,   22.5,   37.5, ..., 4055.5, 4182.2, 4320.9],\n",
       "       ...,\n",
       "       [  10.5,   22.5,   37.5, ..., 4055.5, 4182.2, 4320.9],\n",
       "       [  10.5,   22.5,   37.5, ..., 4055.5, 4182.2, 4320.9],\n",
       "       [  10.5,   22.5,   37.5, ..., 4055.5, 4182.2, 4320.9]],\n",
       "      dtype=float32)\n",
       "Coordinates:\n",
       "  * z        (z) float32 10.5 22.5 37.5 52.5 ... 3939.8 4055.5 4182.2 4320.9\n",
       "Dimensions without coordinates: time\n",
       "Attributes:\n",
       "    units:      m\n",
       "    long_name:  height"
      ]
     },
     "execution_count": 22,
     "metadata": {},
     "output_type": "execute_result"
    }
   ],
   "source": [
    "z2D = f['z'].expand_dims(time = f['time'].size)\n",
    "z2D"
   ]
  },
  {
   "cell_type": "code",
   "execution_count": 23,
   "metadata": {},
   "outputs": [],
   "source": [
    "#Determine cloud base/top\n",
    "cld = f['CLD'] # cloud fraction\n",
    "\n",
    "data_vars['zcb'] = z2D.where(cld >= 0.5).min(dim = 'z', skipna = 'True')\n",
    "\n",
    "data_vars['zcb'].attrs = {\n",
    "    'long name': 'cloud base height of Sc deck',\n",
    "    'units': 'm',\n",
    "    'source': 'OUT_STAT',\n",
    "    'criteria': 'lowest grid with cloud fraction > 0.5'\n",
    "}\n",
    "\n",
    "data_vars['zct'] = z2D.where(cld >= 0.5).max(dim = 'z', skipna = 'True')\n",
    "\n",
    "data_vars['zct'].attrs = {\n",
    "    'long name': 'cloud top height of Sc deck',\n",
    "    'units': 'm',\n",
    "    'source': 'OUT_STAT',\n",
    "    'criteria': 'highest grid with cloud fraction > 0.5'\n",
    "}"
   ]
  },
  {
   "cell_type": "code",
   "execution_count": 24,
   "metadata": {},
   "outputs": [],
   "source": [
    "#Determine caping inversion base/top\n",
    "thl2 = f['THL2']\n",
    "\n",
    "max_thl2 = thl2.max(dim = 'z', skipna = 'True')\n",
    "\n",
    "data_vars['zinvt'] = z2D.where(thl2 >= 0.05*max_thl2).max(dim = 'z', skipna = 'True')\n",
    "data_vars['zinvt'].attrs = {\n",
    "    'long name': 'top of caping inversion',\n",
    "    'units': 'm',\n",
    "    'source': 'OUT_STAT',\n",
    "    'criteria': 'Based on van der Dussen et al., 2014'\n",
    "}\n",
    "\n",
    "data_vars['zinvb'] = z2D.where(thl2 >= 0.05*max_thl2).min(dim = 'z', skipna = 'True')\n",
    "data_vars['zinvb'].attrs = {\n",
    "    'long name': 'base of caping inversion',\n",
    "    'units': 'm',\n",
    "    'source': 'OUT_STAT',\n",
    "    'criteria': 'Based on van der Dussen et al., 2014'\n",
    "}"
   ]
  },
  {
   "cell_type": "code",
   "execution_count": 25,
   "metadata": {},
   "outputs": [],
   "source": [
    "zcb = data_vars['zcb']\n",
    "zct = data_vars['zct']\n",
    "zinvb = data_vars['zinvb']\n",
    "zinvt = data_vars['zinvt']"
   ]
  },
  {
   "cell_type": "code",
   "execution_count": 26,
   "metadata": {},
   "outputs": [],
   "source": [
    "from sam_constants import *\n",
    "\n",
    "#determine quantities at inversion base/top\n",
    "thl  = f['THETAL']\n",
    "thv  = f['THETAV']\n",
    "qt   = f['QT']/1000.\n",
    "\n",
    "trho_tmp = f['TABSOBS']*(1. + 0.61*f['QV']/1000. - f['QC']/1000.)\n",
    "buo = (grav/trho_tmp)*(trho_tmp+ grav*z2D/cp)\n",
    "\n",
    "data_vars['thl_zinvt'] = thl.sel(z = zinvt, method=\"nearest\")\n",
    "data_vars['thl_zinvb'] = thl.sel(z = zinvb, method=\"nearest\")\n",
    "\n",
    "data_vars['thv_zinvt'] = thv.sel(z = zinvt, method=\"nearest\")\n",
    "data_vars['thv_zinvb'] = thv.sel(z = zinvb, method=\"nearest\")\n",
    "\n",
    "data_vars['qt_zinvt'] = qt.sel(z = zinvt, method=\"nearest\")\n",
    "data_vars['qt_zinvb'] = qt.sel(z = zinvb, method=\"nearest\")\n",
    "\n",
    "data_vars['b_zinvt'] = buo.sel(z = zinvt, method=\"nearest\")\n",
    "data_vars['b_zinvb'] = buo.sel(z = zinvb, method=\"nearest\")"
   ]
  },
  {
   "cell_type": "code",
   "execution_count": 27,
   "metadata": {},
   "outputs": [],
   "source": [
    "# determine PBL mean\n",
    "data_vars['thl_scale'] = thl.where(z2D <= data_vars['zinvb']).mean(dim='z')\n",
    "data_vars['qt_scale'] = qt.where(z2D <= data_vars['zinvb']).mean(dim='z')"
   ]
  },
  {
   "cell_type": "code",
   "execution_count": 28,
   "metadata": {},
   "outputs": [],
   "source": [
    "# determine LWP budegt\n",
    "qtf  = f['QTFLUX']/Lv/f['RHO']  # Nonprecipitating water flux (Total), W/m2 -> kg/kg m/s\n",
    "thlf = f['THLFLUX'] # THETAL flux (Resolved), K m/s\n",
    "precf = f['PRECIP']/24/3600 # sfc precipitation m/day --> m/s\n",
    "rad  = f['RADLWUP'] - f['RADLWDN'] + f['RADSWUP'] - f['RADSWDN']  # W/m2\n",
    "\n",
    "h = data_vars['zinvt'] - data_vars['zcb']\n",
    "\n",
    "rho_avg = f['RHO'].where(z2D >= data_vars['zcb']).where(z2D <= data_vars['zinvt']).mean(dim='z')\n",
    "qv_avg = f['QV'].where(z2D >= data_vars['zcb']).where(z2D <= data_vars['zinvt']).mean(dim='z')/1000.\n",
    "t_avg = f['TABSOBS'].where(z2D >= data_vars['zcb']).where(z2D <= data_vars['zinvt']).mean(dim='z')\n",
    "\n",
    "gamma   = Lv*qv_avg/Rv/t_avg**2\n",
    "eta     = (1+Lv*gamma/cp)**(-1)\n",
    "Ga_ql   = grav*eta*(qv_avg/Rd/t_avg - gamma/cp)\n",
    "\n",
    "qt_invt = qt.sel(z = zinvt, method=\"nearest\")\n",
    "qt_invb = qt.sel(z = zinvb, method=\"nearest\")\n",
    "\n",
    "thl_invt = thl.sel(z = zinvt, method=\"nearest\")\n",
    "thl_invb = thl.sel(z = zinvb, method=\"nearest\")\n",
    "\n",
    "thv_invt = thv.sel(z = zinvt, method=\"nearest\")\n",
    "thv_invb = thv.sel(z = zinvb, method=\"nearest\")\n",
    "\n",
    "p_invt = p.sel(z = zinvt, method=\"nearest\")\n",
    "p_invb = p.sel(z = zinvb, method=\"nearest\")\n",
    "\n",
    "rho_invt = f['RHO'].sel(z = zinvt, method=\"nearest\")\n",
    "rho_invb = f['RHO'].sel(z = zinvb, method=\"nearest\")\n",
    "\n",
    "d_qt   = qt_invt-qt_invb\n",
    "d_thl  = thl_invt-thl_invb\n",
    "    \n",
    "exner_invt  = (p_invt/f['Ps'])**(Rd/cp)\n",
    "exner_invb  = (p_invb/f['Ps'])**(Rd/cp)\n",
    "\n",
    "qtf_ct = qtf.sel(z = zinvt, method=\"nearest\")\n",
    "qtf_cb = qtf.sel(z = zcb, method=\"nearest\")\n",
    "\n",
    "thlf_ct = thlf.sel(z = zinvt, method=\"nearest\")\n",
    "thlf_cb = thlf.sel(z = zcb, method=\"nearest\")\n",
    "\n",
    "precf_ct = precf.sel(z = zinvt, method=\"nearest\")\n",
    "precf_cb = precf.sel(z = zcb, method=\"nearest\")\n",
    "\n",
    "rad_ct = rad.sel(z = zinvt, method=\"nearest\")\n",
    "rad_cb = rad.sel(z = zcb, method=\"nearest\")\n",
    "\n",
    "### Sub ###\n",
    "w_zi = f['WOBS'].sel(z = 1000.*f['ZINV'], method=\"nearest\")\n",
    "data_vars['Subs_LWP'] = (-1.0*rho_avg*h*Ga_ql*w_zi)*1000*3600      # kg/m2/s --> g/m2/h\n",
    "\n",
    "### Ent ###\n",
    "data_vars['Ent_LWP'] = rho_avg*f['we']*(eta*d_qt - gamma*eta*(exner_invt*thl_invt-exner_invb*thl_invb) - h*Ga_ql)*1000*3600\n",
    "\n",
    "### Base ###\n",
    "data_vars['Base_LWP'] = rho_avg*eta*(qtf_cb - exner_invb*gamma*thlf_cb)*1000*3600  \n",
    "\n",
    "### Rad ###\n",
    "data_vars['rad_LWP'] = eta*gamma/cp*(rad_ct - rad_cb)*1000*3600 \n",
    "\n",
    "### Prec ###\n",
    "data_vars['Prec_LWP']  = 1.0*rho_avg*(precf_ct - precf_cb)*1000*3600  "
   ]
  },
  {
   "cell_type": "code",
   "execution_count": 29,
   "metadata": {},
   "outputs": [],
   "source": [
    "#determine other quantities\n",
    "data_vars['CldRCool'] = rad_ct - rad_cb\n",
    "\n",
    "data_vars['CldtopRCool'] = rad.where((z2D >= zcb) & (z2D <= zinvt)).max(\n",
    "    dim = 'z', skipna = 'True') - rad.where((z2D >= zcb) & (z2D <= zinvt)).min(\n",
    "    dim = 'z', skipna = 'True')\n",
    "\n",
    "data_vars['kappa'] = 1. + (cp/Lv)*(d_thl/d_qt) \n",
    "\n",
    "data_vars['dissip_invb20'] = f['DISSIP'].where((z2D >= 0.8*zinvb) & (z2D < zinvb)).mean(dim = 'z')\n",
    "\n",
    "data_vars['TVFLX_we'] = f['we']*(thv_invt - thv_invb)\n",
    "data_vars['TVFLX_we_Wm2'] = data_vars['TVFLX_we']*(rho_invb*cp)\n",
    "data_vars['Prec_wm2']  = 0.91*Lv*(precf_cb - precf_ct)\n",
    "\n",
    "data_vars['delta_thetal']  = thl.where((z2D > 0.9*zinvb) & (z2D < zinvb)).mean(\n",
    "    dim = 'z')-thl.where((z2D > 0) & (z2D < 0.1*zinvb)).mean(dim = 'z')\n",
    "\n",
    "data_vars['delta_qt']  = (qt.where((z2D > 0.9*zinvb) & (z2D < zinvb)).mean(\n",
    "    dim = 'z')-qt.where((z2D > 0) & (z2D < 0.1*zinvb)).mean(dim = 'z'))*1000."
   ]
  },
  {
   "cell_type": "code",
   "execution_count": 30,
   "metadata": {},
   "outputs": [
    {
     "name": "stdout",
     "output_type": "stream",
     "text": [
      "Writing postprocessed file.\n"
     ]
    }
   ],
   "source": [
    "# Create output NetCDF\n",
    "print('Writing postprocessed file.')\n",
    "xr.Dataset(data_vars, coords = coords).to_netcdf(\n",
    "    dest + 'postprocessed_N100.nc')"
   ]
  }
 ],
 "metadata": {
  "kernelspec": {
   "display_name": "Python 3",
   "language": "python",
   "name": "python3"
  },
  "language_info": {
   "codemirror_mode": {
    "name": "ipython",
    "version": 3
   },
   "file_extension": ".py",
   "mimetype": "text/x-python",
   "name": "python",
   "nbconvert_exporter": "python",
   "pygments_lexer": "ipython3",
   "version": "3.7.7"
  }
 },
 "nbformat": 4,
 "nbformat_minor": 2
}
