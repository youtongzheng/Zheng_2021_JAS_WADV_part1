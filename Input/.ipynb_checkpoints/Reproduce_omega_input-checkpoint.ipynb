{
 "cells": [
  {
   "cell_type": "code",
   "execution_count": 1,
   "metadata": {},
   "outputs": [],
   "source": [
    "import numpy as np\n",
    "import matplotlib.pyplot as plt\n",
    "import xarray as xr"
   ]
  },
  {
   "cell_type": "code",
   "execution_count": 2,
   "metadata": {},
   "outputs": [],
   "source": [
    "path=\"/lustre/ytzheng/\"\n",
    "# path=\"C:/data/SAM_cases/\"\n",
    "\n",
    "Casename = 'ASTEX_cold2.6'\n",
    "\n",
    "ff = xr.open_mfdataset(path + Casename + '/' +  '*N100.nc',\n",
    "                      combine = 'by_coords',decode_cf = False)"
   ]
  },
  {
   "cell_type": "code",
   "execution_count": 3,
   "metadata": {},
   "outputs": [],
   "source": [
    "z = ff['z'].values\n",
    "t0 = ff['THETA'].values[0]\n",
    "q0 = ff['QV'].values[0]\n",
    "pres0 = ff['Ps'].values[0]\n",
    "nzm = len(z)"
   ]
  },
  {
   "cell_type": "code",
   "execution_count": 4,
   "metadata": {},
   "outputs": [],
   "source": [
    "rgas = 287.\n",
    "cp = 1005.\n",
    "ggr = 9.81 \n",
    "epsv = 0.61"
   ]
  },
  {
   "cell_type": "code",
   "execution_count": 5,
   "metadata": {},
   "outputs": [],
   "source": [
    "presr = np.zeros(nzm)\n",
    "presi = np.zeros(nzm)\n",
    "pres = np.zeros(nzm)\n",
    "tv0 = np.zeros(nzm)\n",
    "prespot = np.zeros(nzm)\n",
    "tabs0 = np.zeros(nzm)\n",
    "zi = np.zeros(nzm)\n",
    "rho = np.zeros(nzm)"
   ]
  },
  {
   "cell_type": "code",
   "execution_count": 6,
   "metadata": {},
   "outputs": [],
   "source": [
    "dz = np.diff(np.insert(z, 0, 0))\n",
    "dz = 0.5*(dz + np.roll(dz, -1))\n",
    "dz[0] = dz[0] + 0.5*z[0]\n",
    "dz[nzm-1] = z[nzm-1]-z[nzm-2]\n",
    "\n",
    "for k in range(1, nzm):\n",
    "    zi[k] = zi[k-1] + dz[k-1]"
   ]
  },
  {
   "cell_type": "code",
   "execution_count": 7,
   "metadata": {},
   "outputs": [],
   "source": [
    "#compute pressure\n",
    "presr[0]=(pres0/1000.)**(rgas/cp)\n",
    "presi[0]=pres0\n",
    "\n",
    "for k in range(0, nzm-1):\n",
    "    q0[k]=q0[k]*1e-3\n",
    "    tv0[k]=t0[k]*(1.+epsv*q0[k])\n",
    "    presr[k+1]=presr[k]-ggr/cp/tv0[k]*(zi[k+1]-zi[k])\n",
    "    presi[k+1]=1000.*presr[k+1]**(cp/rgas)\n",
    "    pres[k] = np.exp(np.log(presi[k])+np.log(presi[k+1]/presi[k])*(z[k]-zi[k])/(zi[k+1]-zi[k]))\n",
    "    prespot[k]=(1000./pres[k])**(rgas/cp)\n",
    "    tabs0[k]=t0[k]/prespot[k]\n",
    "\n",
    "for k in range(0, nzm-1):\n",
    "     rho[k] = (presi[k]-presi[k+1])/(zi[k+1]-zi[k])/ggr*100."
   ]
  },
  {
   "cell_type": "code",
   "execution_count": 29,
   "metadata": {},
   "outputs": [],
   "source": [
    "pres[-1] = presi[-1]"
   ]
  },
  {
   "cell_type": "code",
   "execution_count": 8,
   "metadata": {},
   "outputs": [],
   "source": [
    "D = 5e-6 #s-1\n",
    "wref = np.zeros(nzm)\n",
    "wref[z <=1600] = -D*z[z <=1600]\n",
    "wref[z > 1600] = -D*1600.\n",
    "\n",
    "omegaref = -wref*rho*ggr"
   ]
  },
  {
   "cell_type": "code",
   "execution_count": 9,
   "metadata": {},
   "outputs": [
    {
     "data": {
      "text/plain": [
       "[<matplotlib.lines.Line2D at 0x7f99073c1790>]"
      ]
     },
     "execution_count": 9,
     "metadata": {},
     "output_type": "execute_result"
    },
    {
     "data": {
      "image/png": "[encoded data removed]",
      "text/plain": [
       "<Figure size 432x288 with 1 Axes>"
      ]
     },
     "metadata": {
      "needs_background": "light"
     },
     "output_type": "display_data"
    }
   ],
   "source": [
    "plt.plot(wref, z)\n",
    "plt.plot(ff['WOBS'][0], z, linestyle = '--')"
   ]
  },
  {
   "cell_type": "code",
   "execution_count": 59,
   "metadata": {},
   "outputs": [],
   "source": [
    "pres_conca = np.linspace(pres[-1], 0., 100)\n",
    "\n",
    "pres_tmp = np.concatenate((pres[:-2], pres_conca)) "
   ]
  },
  {
   "cell_type": "code",
   "execution_count": 63,
   "metadata": {},
   "outputs": [],
   "source": [
    "ind = np.where(z > 1600.)[0]\n",
    "\n",
    "coef_lin = np.polyfit(pres[ind], omegaref[ind], 1)\n",
    "omegaref_conca = omegaref[ind[-1]] + coef_lin[0]*pres_conca\n",
    "omegaref_tmp = np.concatenate((omegaref[:-2], omegaref_conca)) "
   ]
  },
  {
   "cell_type": "code",
   "execution_count": 64,
   "metadata": {},
   "outputs": [
    {
     "data": {
      "text/plain": [
       "array([0.06055871, 0.059947  , 0.0593353 , 0.0587236 , 0.05811189,\n",
       "       0.05750019, 0.05688848, 0.05627678, 0.05566508, 0.05505337,\n",
       "       0.05444167, 0.05382996, 0.05321826, 0.05260655, 0.05199485,\n",
       "       0.05138315, 0.05077144, 0.05015974, 0.04954803, 0.04893633,\n",
       "       0.04832463, 0.04771292, 0.04710122, 0.04648951, 0.04587781,\n",
       "       0.04526611, 0.0446544 , 0.0440427 , 0.04343099, 0.04281929,\n",
       "       0.04220758, 0.04159588, 0.04098418, 0.04037247, 0.03976077,\n",
       "       0.03914906, 0.03853736, 0.03792566, 0.03731395, 0.03670225,\n",
       "       0.03609054, 0.03547884, 0.03486714, 0.03425543, 0.03364373,\n",
       "       0.03303202, 0.03242032, 0.03180861, 0.03119691, 0.03058521,\n",
       "       0.0299735 , 0.0293618 , 0.02875009, 0.02813839, 0.02752669,\n",
       "       0.02691498, 0.02630328, 0.02569157, 0.02507987, 0.02446816,\n",
       "       0.02385646, 0.02324476, 0.02263305, 0.02202135, 0.02140964,\n",
       "       0.02079794, 0.02018624, 0.01957453, 0.01896283, 0.01835112,\n",
       "       0.01773942, 0.01712772, 0.01651601, 0.01590431, 0.0152926 ,\n",
       "       0.0146809 , 0.01406919, 0.01345749, 0.01284579, 0.01223408,\n",
       "       0.01162238, 0.01101067, 0.01039897, 0.00978727, 0.00917556,\n",
       "       0.00856386, 0.00795215, 0.00734045, 0.00672875, 0.00611704,\n",
       "       0.00550534, 0.00489363, 0.00428193, 0.00367022, 0.00305852,\n",
       "       0.00244682, 0.00183511, 0.00122341, 0.0006117 , 0.        ])"
      ]
     },
     "execution_count": 64,
     "metadata": {},
     "output_type": "execute_result"
    }
   ],
   "source": [
    "omegaref_conca"
   ]
  },
  {
   "cell_type": "code",
   "execution_count": 10,
   "metadata": {},
   "outputs": [],
   "source": [
    "f  = xr.open_dataset('./astex_2010_v3a_SCAMIOP.nc')"
   ]
  },
  {
   "cell_type": "code",
   "execution_count": 65,
   "metadata": {},
   "outputs": [
    {
     "data": {
      "text/plain": [
       "(1027.7372919077436, 0.0)"
      ]
     },
     "execution_count": 65,
     "metadata": {},
     "output_type": "execute_result"
    },
    {
     "data": {
      "image/png": "[encoded data removed]",
      "text/plain": [
       "<Figure size 432x288 with 1 Axes>"
      ]
     },
     "metadata": {
      "needs_background": "light"
     },
     "output_type": "display_data"
    }
   ],
   "source": [
    "omega_ori = f['omega'].isel(tsec = 0).isel(lon = 0).isel(lat = 0)\n",
    "pres_ori = f['lev']\n",
    "\n",
    "# plt.plot(omegaref[:-2], pres[:-2])\n",
    "\n",
    "plt.plot(omegaref_tmp, pres_tmp)\n",
    "plt.plot(omega_ori, pres_ori/100., linestyle = '--')\n",
    "plt.ylim([pres_tmp[0], pres_tmp[-1]])"
   ]
  },
  {
   "cell_type": "code",
   "execution_count": 126,
   "metadata": {},
   "outputs": [],
   "source": [
    "omegaref_new = np.interp(pres_ori, pres[400:-2], omegaref[400:-2])"
   ]
  },
  {
   "cell_type": "code",
   "execution_count": 127,
   "metadata": {},
   "outputs": [
    {
     "data": {
      "text/plain": [
       "[<matplotlib.lines.Line2D at 0x2e66d45c6a0>]"
      ]
     },
     "execution_count": 127,
     "metadata": {},
     "output_type": "execute_result"
    },
    {
     "data": {
      "image/png": "[encoded data removed]",
      "text/plain": [
       "<Figure size 432x288 with 1 Axes>"
      ]
     },
     "metadata": {
      "needs_background": "light"
     },
     "output_type": "display_data"
    }
   ],
   "source": [
    "plt.plot(omegaref_new, pres_ori/100.)\n",
    "plt.plot(omega_ori, pres_ori/100., linestyle = '--')\n",
    "# plt.ylim([pres[0], pres[-2]])"
   ]
  }
 ],
 "metadata": {
  "kernelspec": {
   "display_name": "Python 3",
   "language": "python",
   "name": "python3"
  },
  "language_info": {
   "codemirror_mode": {
    "name": "ipython",
    "version": 3
   },
   "file_extension": ".py",
   "mimetype": "text/x-python",
   "name": "python",
   "nbconvert_exporter": "python",
   "pygments_lexer": "ipython3",
   "version": "3.7.7"
  }
 },
 "nbformat": 4,
 "nbformat_minor": 4
}
