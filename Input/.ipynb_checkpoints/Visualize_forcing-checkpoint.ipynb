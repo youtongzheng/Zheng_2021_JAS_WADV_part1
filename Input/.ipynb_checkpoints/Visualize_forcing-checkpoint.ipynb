{
 "cells": [
  {
   "cell_type": "code",
   "execution_count": 1,
   "metadata": {},
   "outputs": [],
   "source": [
    "import numpy as np\n",
    "import matplotlib.pyplot as plt\n",
    "import xarray as xr"
   ]
  },
  {
   "cell_type": "code",
   "execution_count": 2,
   "metadata": {},
   "outputs": [],
   "source": [
    "path = './'\n",
    "\n",
    "f  = xr.open_dataset(path + 'astex_2010_v3a_SCAMIOP.nc')"
   ]
  },
  {
   "cell_type": "code",
   "execution_count": 3,
   "metadata": {},
   "outputs": [
    {
     "data": {
      "text/plain": [
       "<xarray.Dataset>\n",
       "Dimensions:  (lat: 1, lev: 34, lon: 1, tsec: 41)\n",
       "Coordinates:\n",
       "  * lat      (lat) float32 34.0\n",
       "  * lon      (lon) float32 -25.0\n",
       "  * lev      (lev) float32 100.0 200.0 300.0 ... 95140.25 99185.59 102900.0\n",
       "  * tsec     (tsec) int32 0 3600 7200 10800 ... 133200 136800 140400 144000\n",
       "Data variables:\n",
       "    calday   (tsec) float32 ...\n",
       "    year     (tsec) int32 ...\n",
       "    month    (tsec) int32 ...\n",
       "    day      (tsec) int32 ...\n",
       "    hour     (tsec) float32 ...\n",
       "    nbdate   int32 ...\n",
       "    bdate    int32 ...\n",
       "    phis     (lat, lon) float32 ...\n",
       "    Ps       (tsec, lat, lon) float32 ...\n",
       "    Tg       (tsec, lat, lon) float32 ...\n",
       "    T        (tsec, lev, lat, lon) float32 ...\n",
       "    q        (tsec, lev, lat, lon) float32 ...\n",
       "    u        (tsec, lev, lat, lon) float32 ...\n",
       "    ug       (tsec, lev, lat, lon) float32 ...\n",
       "    v        (tsec, lev, lat, lon) float32 ...\n",
       "    vg       (tsec, lev, lat, lon) float32 ...\n",
       "    divT     (tsec, lev, lat, lon) float32 ...\n",
       "    divq     (tsec, lev, lat, lon) float32 ...\n",
       "    omega    (tsec, lev, lat, lon) float32 ...\n",
       "    o3mmr    (tsec, lev, lat, lon) float32 ...\n",
       "    tke      (tsec, lev, lat, lon) float32 ...\n",
       "Attributes:\n",
       "    author:       Peter Blossey, pblossey@u.washington.edu\n",
       "    institution:  University of Washington\n",
       "    Conventions:  CF-1.3\n",
       "    date:         16-Mar-2011\n",
       "    comment:      Forcing file for GCSS BLCWG Astex transition intercompariso..."
      ]
     },
     "execution_count": 3,
     "metadata": {},
     "output_type": "execute_result"
    }
   ],
   "source": [
    "f"
   ]
  },
  {
   "cell_type": "code",
   "execution_count": 21,
   "metadata": {},
   "outputs": [],
   "source": [
    "omega0 = f['omega'].isel(tsec = 0)"
   ]
  },
  {
   "cell_type": "code",
   "execution_count": 26,
   "metadata": {},
   "outputs": [
    {
     "data": {
      "text/plain": [
       "<xarray.DataArray 'omega' (lev: 34, lat: 1, lon: 1)>\n",
       "array([[[-0.      ]],\n",
       "\n",
       "       [[ 0.000204]],\n",
       "\n",
       "       [[ 0.000314]],\n",
       "\n",
       "       [[ 0.000553]],\n",
       "\n",
       "       [[ 0.000791]],\n",
       "\n",
       "       [[ 0.001159]],\n",
       "\n",
       "       [[ 0.002413]],\n",
       "\n",
       "       [[ 0.00372 ]],\n",
       "\n",
       "       [[ 0.006299]],\n",
       "\n",
       "       [[ 0.00891 ]],\n",
       "\n",
       "       [[ 0.012911]],\n",
       "\n",
       "       [[ 0.016246]],\n",
       "\n",
       "       [[ 0.019789]],\n",
       "\n",
       "       [[ 0.023037]],\n",
       "\n",
       "       [[ 0.025757]],\n",
       "\n",
       "       [[ 0.028178]],\n",
       "\n",
       "       [[ 0.030458]],\n",
       "\n",
       "       [[ 0.034854]],\n",
       "\n",
       "       [[ 0.039228]],\n",
       "\n",
       "       [[ 0.04362 ]],\n",
       "\n",
       "       [[ 0.047914]],\n",
       "\n",
       "       [[ 0.052231]],\n",
       "\n",
       "       [[ 0.056584]],\n",
       "\n",
       "       [[ 0.060856]],\n",
       "\n",
       "       [[ 0.064995]],\n",
       "\n",
       "       [[ 0.069086]],\n",
       "\n",
       "       [[ 0.073139]],\n",
       "\n",
       "       [[ 0.075137]],\n",
       "\n",
       "       [[ 0.07714 ]],\n",
       "\n",
       "       [[ 0.081447]],\n",
       "\n",
       "       [[ 0.039801]],\n",
       "\n",
       "       [[ 0.037675]],\n",
       "\n",
       "       [[ 0.018404]],\n",
       "\n",
       "       [[-0.      ]]], dtype=float32)\n",
       "Coordinates:\n",
       "  * lat      (lat) float32 34.0\n",
       "  * lon      (lon) float32 -25.0\n",
       "  * lev      (lev) float32 100.0 200.0 300.0 ... 95140.25 99185.59 102900.0\n",
       "    tsec     int32 0\n",
       "Attributes:\n",
       "    units:      Pa/s\n",
       "    long_name:  Large-scale vertical pressure velocity"
      ]
     },
     "execution_count": 26,
     "metadata": {},
     "output_type": "execute_result"
    }
   ],
   "source": [
    "omega0"
   ]
  },
  {
   "cell_type": "code",
   "execution_count": 27,
   "metadata": {},
   "outputs": [
    {
     "data": {
      "text/plain": [
       "<xarray.DataArray 'lev' (lev: 34)>\n",
       "array([1.000000e+02, 2.000000e+02, 3.000000e+02, 5.000000e+02, 7.000000e+02,\n",
       "       1.000000e+03, 2.000000e+03, 3.000000e+03, 5.000000e+03, 7.000000e+03,\n",
       "       1.000000e+04, 1.250000e+04, 1.500000e+04, 1.750000e+04, 2.000000e+04,\n",
       "       2.250000e+04, 2.500000e+04, 3.000000e+04, 3.500000e+04, 4.000000e+04,\n",
       "       4.500000e+04, 5.000000e+04, 5.500000e+04, 6.000000e+04, 6.500000e+04,\n",
       "       7.000000e+04, 7.500000e+04, 7.750000e+04, 8.000000e+04, 8.513502e+04,\n",
       "       9.457734e+04, 9.514025e+04, 9.918559e+04, 1.029000e+05], dtype=float32)\n",
       "Coordinates:\n",
       "  * lev      (lev) float32 100.0 200.0 300.0 ... 95140.25 99185.59 102900.0\n",
       "Attributes:\n",
       "    units:          Pa\n",
       "    long_name:      Pressure\n",
       "    standard_name:  air_pressure"
      ]
     },
     "execution_count": 27,
     "metadata": {},
     "output_type": "execute_result"
    }
   ],
   "source": [
    "f['lev']"
   ]
  },
  {
   "cell_type": "code",
   "execution_count": 23,
   "metadata": {},
   "outputs": [
    {
     "data": {
      "text/plain": [
       "[<matplotlib.lines.Line2D at 0x7fe257692b10>]"
      ]
     },
     "execution_count": 23,
     "metadata": {},
     "output_type": "execute_result"
    },
    {
     "data": {
      "image/png": "[encoded data removed]",
      "text/plain": [
       "<Figure size 432x288 with 1 Axes>"
      ]
     },
     "metadata": {
      "needs_background": "light"
     },
     "output_type": "display_data"
    }
   ],
   "source": [
    "omega0.plot(\n",
    "    y = 'lev',\n",
    "    yincrease=False)"
   ]
  },
  {
   "cell_type": "code",
   "execution_count": 29,
   "metadata": {},
   "outputs": [],
   "source": [
    "D = omega0/(f['lev'].isel(lev = 33) - f['lev'])"
   ]
  },
  {
   "cell_type": "code",
   "execution_count": 30,
   "metadata": {},
   "outputs": [
    {
     "data": {
      "text/plain": [
       "[<matplotlib.lines.Line2D at 0x7fe257539790>]"
      ]
     },
     "execution_count": 30,
     "metadata": {},
     "output_type": "execute_result"
    },
    {
     "data": {
      "image/png": "[encoded data removed]",
      "text/plain": [
       "<Figure size 432x288 with 1 Axes>"
      ]
     },
     "metadata": {
      "needs_background": "light"
     },
     "output_type": "display_data"
    }
   ],
   "source": [
    "D.plot(\n",
    "    y = 'lev',\n",
    "    yincrease=False)"
   ]
  },
  {
   "cell_type": "code",
   "execution_count": 8,
   "metadata": {},
   "outputs": [],
   "source": [
    "rho_ref       = 1.\n",
    "grav    = 9.81              # Gravity acceleration, m/s2"
   ]
  },
  {
   "cell_type": "code",
   "execution_count": 11,
   "metadata": {},
   "outputs": [],
   "source": [
    "W = -f['omega']/(rho_ref*grav)\n",
    "D = -W/500."
   ]
  },
  {
   "cell_type": "code",
   "execution_count": 18,
   "metadata": {},
   "outputs": [
    {
     "name": "stdout",
     "output_type": "stream",
     "text": [
      "<xarray.DataArray 'omega' (lat: 1, lon: 1)>\n",
      "array([[29]])\n",
      "Coordinates:\n",
      "  * lat      (lat) float32 34.0\n",
      "  * lon      (lon) float32 -25.0\n",
      "    tsec     int32 0\n"
     ]
    }
   ],
   "source": [
    "print(W.sel(tsec = 0).argmin(dim = 'lev'))"
   ]
  },
  {
   "cell_type": "code",
   "execution_count": 20,
   "metadata": {},
   "outputs": [
    {
     "data": {
      "text/plain": [
       "<xarray.DataArray 'lev' ()>\n",
       "array(85135.02, dtype=float32)\n",
       "Coordinates:\n",
       "    lev      float32 85135.02\n",
       "Attributes:\n",
       "    units:          Pa\n",
       "    long_name:      Pressure\n",
       "    standard_name:  air_pressure"
      ]
     },
     "execution_count": 20,
     "metadata": {},
     "output_type": "execute_result"
    }
   ],
   "source": [
    "f['lev'].isel(lev = 29)"
   ]
  },
  {
   "cell_type": "code",
   "execution_count": 15,
   "metadata": {},
   "outputs": [
    {
     "name": "stdout",
     "output_type": "stream",
     "text": [
      "<xarray.DataArray 'omega' (lat: 1, lon: 1)>\n",
      "array([[1.12801864e-07]], dtype=float32)\n",
      "Coordinates:\n",
      "  * lat      (lat) float32 34.0\n",
      "  * lon      (lon) float32 -25.0\n",
      "    lev      float32 500.0\n",
      "    tsec     int32 0\n"
     ]
    }
   ],
   "source": [
    "print(D.sel(lev = 500).sel(tsec = 0))"
   ]
  },
  {
   "cell_type": "code",
   "execution_count": 12,
   "metadata": {},
   "outputs": [
    {
     "data": {
      "text/plain": [
       "[<matplotlib.lines.Line2D at 0x7fe25787c810>]"
      ]
     },
     "execution_count": 12,
     "metadata": {},
     "output_type": "execute_result"
    },
    {
     "data": {
      "image/png": "[encoded data removed]",
      "text/plain": [
       "<Figure size 432x288 with 1 Axes>"
      ]
     },
     "metadata": {
      "needs_background": "light"
     },
     "output_type": "display_data"
    }
   ],
   "source": [
    "W.isel(tsec = 0).plot(\n",
    "    y = 'lev',\n",
    "    yincrease=False)"
   ]
  },
  {
   "cell_type": "code",
   "execution_count": 13,
   "metadata": {},
   "outputs": [
    {
     "data": {
      "text/plain": [
       "[<matplotlib.lines.Line2D at 0x7fe2577ded50>]"
      ]
     },
     "execution_count": 13,
     "metadata": {},
     "output_type": "execute_result"
    },
    {
     "data": {
      "image/png": "[encoded data removed]",
      "text/plain": [
       "<Figure size 432x288 with 1 Axes>"
      ]
     },
     "metadata": {
      "needs_background": "light"
     },
     "output_type": "display_data"
    }
   ],
   "source": [
    "D.isel(tsec = 0).plot(\n",
    "    y = 'lev',\n",
    "    yincrease=False)"
   ]
  }
 ],
 "metadata": {
  "kernelspec": {
   "display_name": "Python 3",
   "language": "python",
   "name": "python3"
  },
  "language_info": {
   "codemirror_mode": {
    "name": "ipython",
    "version": 3
   },
   "file_extension": ".py",
   "mimetype": "text/x-python",
   "name": "python",
   "nbconvert_exporter": "python",
   "pygments_lexer": "ipython3",
   "version": "3.7.7"
  }
 },
 "nbformat": 4,
 "nbformat_minor": 2
}
