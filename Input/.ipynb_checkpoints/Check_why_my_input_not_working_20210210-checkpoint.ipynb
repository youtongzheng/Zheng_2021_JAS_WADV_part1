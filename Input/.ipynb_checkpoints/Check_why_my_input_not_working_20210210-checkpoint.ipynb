{
 "cells": [
  {
   "cell_type": "code",
   "execution_count": 1,
   "metadata": {},
   "outputs": [],
   "source": [
    "import numpy as np\n",
    "import matplotlib.pyplot as plt\n",
    "import xarray as xr"
   ]
  },
  {
   "cell_type": "code",
   "execution_count": 6,
   "metadata": {},
   "outputs": [],
   "source": [
    "path = './'\n",
    "f  = xr.open_dataset(path + 'astex_input_Tadv_-2.6.nc')\n",
    "f_old  = xr.open_dataset(path + 'astex_input_Tadv_-2.6_old.nc')\n",
    "f_ratlas  = xr.open_dataset(path + 'RF12_obs-based_SAM_input.nc')"
   ]
  },
  {
   "cell_type": "code",
   "execution_count": 3,
   "metadata": {},
   "outputs": [
    {
     "data": {
      "text/plain": [
       "<xarray.Dataset>\n",
       "Dimensions:  (lat: 1, lev: 34, lon: 1, tsec: 91)\n",
       "Coordinates:\n",
       "  * lat      (lat) float32 34.0\n",
       "  * lon      (lon) float32 -25.0\n",
       "  * lev      (lev) float32 100.0 200.0 300.0 ... 95140.25 99185.59 102900.0\n",
       "  * tsec     (tsec) float64 0.0 3.6e+03 7.2e+03 ... 3.168e+05 3.204e+05 3.24e+05\n",
       "Data variables:\n",
       "    calday   (tsec) float64 ...\n",
       "    year     (tsec) int32 ...\n",
       "    month    (tsec) int32 ...\n",
       "    day      (tsec) int32 ...\n",
       "    hour     (tsec) float32 ...\n",
       "    nbdate   (tsec) int32 ...\n",
       "    bdate    (tsec) int32 ...\n",
       "    phis     (tsec, lat, lon) float32 ...\n",
       "    Ps       (tsec, lat, lon) float32 ...\n",
       "    Tg       (tsec, lat, lon) float64 ...\n",
       "    T        (tsec, lev, lat, lon) float32 ...\n",
       "    q        (tsec, lev, lat, lon) float32 ...\n",
       "    u        (tsec, lev, lat, lon) float32 ...\n",
       "    ug       (tsec, lev, lat, lon) float32 ...\n",
       "    v        (tsec, lev, lat, lon) float32 ...\n",
       "    vg       (tsec, lev, lat, lon) float32 ...\n",
       "    divT     (tsec, lev, lat, lon) float32 ...\n",
       "    divq     (tsec, lev, lat, lon) float32 ...\n",
       "    omega    (tsec, lev, lat, lon) float32 ...\n",
       "    o3mmr    (tsec, lev, lat, lon) float32 ...\n",
       "    tke      (tsec, lev, lat, lon) float32 ...\n",
       "Attributes:\n",
       "    author:       Youtong Zheng, zhengyoutong@gmail.com\n",
       "    institution:  University of Maryland\n",
       "    Conventions:  CF-1.3\n",
       "    date:         2021-02-08\n",
       "    comment:      Modified from forcing file for GCSS BLCWG Astex transition ..."
      ]
     },
     "execution_count": 3,
     "metadata": {},
     "output_type": "execute_result"
    }
   ],
   "source": [
    "f"
   ]
  },
  {
   "cell_type": "code",
   "execution_count": 4,
   "metadata": {},
   "outputs": [
    {
     "data": {
      "text/plain": [
       "<xarray.Dataset>\n",
       "Dimensions:  (lat: 1, lev: 34, lon: 1, nbdate: 1, tsec: 91)\n",
       "Coordinates:\n",
       "  * tsec     (tsec) int32 0 3600 7200 10800 ... 313200 316800 320400 324000\n",
       "  * lat      (lat) float64 34.0\n",
       "  * lon      (lon) float64 -25.0\n",
       "  * lev      (lev) float64 100.0 200.0 300.0 ... 9.514e+04 9.919e+04 1.029e+05\n",
       "  * nbdate   (nbdate) int32 920613\n",
       "Data variables:\n",
       "    Ps       (tsec, lat, lon) float64 ...\n",
       "    T        (tsec, lev, lat, lon) float64 ...\n",
       "    q        (tsec, lev, lat, lon) float64 ...\n",
       "    u        (tsec, lev, lat, lon) float64 ...\n",
       "    v        (tsec, lev, lat, lon) float64 ...\n",
       "    o3mmr    (tsec, lev, lat, lon) float64 ...\n",
       "    Tg       (tsec, lat, lon) float64 ...\n",
       "    divq     (tsec, lev, lat, lon) float64 ...\n",
       "    divT     (tsec, lev, lat, lon) float64 ...\n",
       "    ug       (tsec, lev, lat, lon) float64 ...\n",
       "    vg       (tsec, lev, lat, lon) float64 ...\n",
       "    omega    (tsec, lev, lat, lon) float64 ...\n",
       "Attributes:\n",
       "    description:  Tadv=-2.6"
      ]
     },
     "execution_count": 4,
     "metadata": {},
     "output_type": "execute_result"
    }
   ],
   "source": [
    "f_old"
   ]
  },
  {
   "cell_type": "code",
   "execution_count": 7,
   "metadata": {},
   "outputs": [
    {
     "data": {
      "text/plain": [
       "<xarray.Dataset>\n",
       "Dimensions:  (lat: 1, lev: 41, lon: 1, time: 48)\n",
       "Coordinates:\n",
       "  * lat      (lat) float64 -57.0\n",
       "  * lon      (lon) float64 141.5\n",
       "  * lev      (lev) float64 100.0 200.0 300.0 500.0 ... 9.25e+04 9.5e+04 9.75e+04\n",
       "Dimensions without coordinates: time\n",
       "Data variables:\n",
       "    nbdate   int64 ...\n",
       "    bdate    int64 ...\n",
       "    tsec     (time) int64 ...\n",
       "    calday   (time) float64 ...\n",
       "    u        (time, lev, lat, lon) float64 ...\n",
       "    v        (time, lev, lat, lon) float64 ...\n",
       "    ug       (time, lev, lat, lon) float64 ...\n",
       "    vg       (time, lev, lat, lon) float64 ...\n",
       "    divT     (time, lev, lat, lon) float64 ...\n",
       "    divq     (time, lev, lat, lon) float64 ...\n",
       "    omega    (time, lev, lat, lon) float64 ...\n",
       "    o3mmr    (time, lev, lat, lon) float64 ...\n",
       "    T        (time, lev, lat, lon) float64 ...\n",
       "    q        (time, lev, lat, lon) float64 ...\n",
       "    Ptend    (time, lat, lon) float64 ...\n",
       "    Tg       (time, lat, lon) float64 ...\n",
       "    Ps       (time, lat, lon) float64 ..."
      ]
     },
     "execution_count": 7,
     "metadata": {},
     "output_type": "execute_result"
    }
   ],
   "source": [
    "f_ratlas"
   ]
  }
 ],
 "metadata": {
  "kernelspec": {
   "display_name": "Python 3",
   "language": "python",
   "name": "python3"
  },
  "language_info": {
   "codemirror_mode": {
    "name": "ipython",
    "version": 3
   },
   "file_extension": ".py",
   "mimetype": "text/x-python",
   "name": "python",
   "nbconvert_exporter": "python",
   "pygments_lexer": "ipython3",
   "version": "3.7.7"
  }
 },
 "nbformat": 4,
 "nbformat_minor": 2
}
