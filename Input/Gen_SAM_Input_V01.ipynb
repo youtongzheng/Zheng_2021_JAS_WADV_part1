{
 "cells": [
  {
   "cell_type": "code",
   "execution_count": 1,
   "metadata": {},
   "outputs": [],
   "source": [
    "import numpy as np\n",
    "import matplotlib.pyplot as plt\n",
    "import xarray as xr"
   ]
  },
  {
   "cell_type": "code",
   "execution_count": 2,
   "metadata": {},
   "outputs": [],
   "source": [
    "Tadv = 2.6"
   ]
  },
  {
   "cell_type": "code",
   "execution_count": 3,
   "metadata": {},
   "outputs": [],
   "source": [
    "path = './'\n",
    "\n",
    "f  = xr.open_dataset(path + 'astex_2010_v3a_SCAMIOP.nc')"
   ]
  },
  {
   "cell_type": "code",
   "execution_count": 4,
   "metadata": {},
   "outputs": [
    {
     "data": {
      "text/plain": [
       "<xarray.Dataset>\n",
       "Dimensions:  (lat: 1, lev: 34, lon: 1, tsec: 41)\n",
       "Coordinates:\n",
       "  * lat      (lat) float32 34.0\n",
       "  * lon      (lon) float32 -25.0\n",
       "  * lev      (lev) float32 100.0 200.0 300.0 ... 95140.25 99185.59 102900.0\n",
       "  * tsec     (tsec) int32 0 3600 7200 10800 ... 133200 136800 140400 144000\n",
       "Data variables:\n",
       "    calday   (tsec) float32 ...\n",
       "    year     (tsec) int32 ...\n",
       "    month    (tsec) int32 ...\n",
       "    day      (tsec) int32 ...\n",
       "    hour     (tsec) float32 ...\n",
       "    nbdate   int32 ...\n",
       "    bdate    int32 ...\n",
       "    phis     (lat, lon) float32 ...\n",
       "    Ps       (tsec, lat, lon) float32 ...\n",
       "    Tg       (tsec, lat, lon) float32 ...\n",
       "    T        (tsec, lev, lat, lon) float32 ...\n",
       "    q        (tsec, lev, lat, lon) float32 ...\n",
       "    u        (tsec, lev, lat, lon) float32 ...\n",
       "    ug       (tsec, lev, lat, lon) float32 ...\n",
       "    v        (tsec, lev, lat, lon) float32 ...\n",
       "    vg       (tsec, lev, lat, lon) float32 ...\n",
       "    divT     (tsec, lev, lat, lon) float32 ...\n",
       "    divq     (tsec, lev, lat, lon) float32 ...\n",
       "    omega    (tsec, lev, lat, lon) float32 ...\n",
       "    o3mmr    (tsec, lev, lat, lon) float32 ...\n",
       "    tke      (tsec, lev, lat, lon) float32 ...\n",
       "Attributes:\n",
       "    author:       Peter Blossey, pblossey@u.washington.edu\n",
       "    institution:  University of Washington\n",
       "    Conventions:  CF-1.3\n",
       "    date:         16-Mar-2011\n",
       "    comment:      Forcing file for GCSS BLCWG Astex transition intercompariso..."
      ]
     },
     "execution_count": 4,
     "metadata": {},
     "output_type": "execute_result"
    }
   ],
   "source": [
    "f"
   ]
  },
  {
   "cell_type": "code",
   "execution_count": 5,
   "metadata": {},
   "outputs": [],
   "source": [
    "# Create dictionaries for holding postprocessed variables\n",
    "data_vars = {}\n",
    "coords = {}\n",
    "attrs = {}\n",
    "\n",
    "# Save required coordinates\n",
    "coords['lat'] = f['lat']\n",
    "coords['lon'] = f['lon']\n",
    "coords['lev'] = f['lev']\n",
    "coords['tsec'] = f['tsec']\n",
    "\n",
    "#get array size\n",
    "ntsec = f['tsec'].size\n",
    "nlev = f['lev'].size"
   ]
  },
  {
   "cell_type": "code",
   "execution_count": 20,
   "metadata": {},
   "outputs": [],
   "source": [
    "#Extend time dimension\n",
    "ntsec_out = 91\n",
    "if ntsec_out - ntsec <= ntsec:\n",
    "    f_out = xr.concat([f, f.isel(tsec = slice(0, ntsec_out - ntsec))], dim=\"tsec\")\n",
    "else:\n",
    "    f_out = xr.concat([f, f.isel(tsec = slice(0, ntsec_out - ntsec)), \n",
    "                      f.isel(tsec = slice(0, ntsec_out - 2*ntsec))], dim=\"tsec\")"
   ]
  },
  {
   "cell_type": "code",
   "execution_count": 21,
   "metadata": {},
   "outputs": [],
   "source": [
    "# Modify those variables that are time-dependent \n",
    "# (initial variables should not change typically)\n",
    "\n",
    "#time related variables\n",
    "f_out.coords['tsec'] = np.arange(ntsec_out)*3600.\n",
    "f_out['calday'] = xr.DataArray(\n",
    "    f_out['calday'].values[0] + np.arange(ntsec_out)/24., \n",
    "    coords={'tsec': f_out['tsec'].values},\n",
    "             dims=['tsec'])\n",
    "\n",
    "#forcing variables that are time-varying\n",
    "f_out['omega'] = f_out['omega'].isel(\n",
    "    tsec = 0).expand_dims(\n",
    "    tsec = f_out['tsec'].size).assign_coords(\n",
    "    tsec=f_out['tsec'].values)\n",
    "\n",
    "f_out['ug'] = f_out['ug'].isel(\n",
    "    tsec = 0).expand_dims(\n",
    "    tsec = f_out['tsec'].size).assign_coords(\n",
    "    tsec=f_out['tsec'].values)\n",
    "\n",
    "f_out['vg'] = f_out['vg'].isel(\n",
    "    tsec = 0).expand_dims(\n",
    "    tsec = f_out['tsec'].size).assign_coords(\n",
    "    tsec=f_out['tsec'].values)\n",
    "\n",
    "# Fit SST\n",
    "coef_lin = np.polyfit(f['tsec'].values, f['Tg'].values[:,0,0], 1)\n",
    "lfit = np.poly1d(coef_lin)\n",
    "SST = lfit[0] + (-Tadv/(24.*3600.))*f_out['tsec'].values\n",
    "\n",
    "f_out['Tg'] = xr.DataArray(\n",
    "    SST.reshape(f_out['tsec'].size, f_out['lat'].size, f_out['lon'].size), \n",
    "    coords={'tsec': f_out['tsec'].values, 'lat': f_out['lat'].values, 'lon': f_out['lon'].values},\n",
    "             dims=['tsec','lat','lon'])"
   ]
  },
  {
   "cell_type": "code",
   "execution_count": 22,
   "metadata": {},
   "outputs": [
    {
     "data": {
      "text/plain": [
       "<xarray.Dataset>\n",
       "Dimensions:  (lat: 1, lev: 34, lon: 1, tsec: 91)\n",
       "Coordinates:\n",
       "  * lev      (lev) float32 100.0 200.0 300.0 ... 95140.25 99185.59 102900.0\n",
       "  * lon      (lon) float32 -25.0\n",
       "  * lat      (lat) float32 34.0\n",
       "  * tsec     (tsec) float64 0.0 3.6e+03 7.2e+03 ... 3.168e+05 3.204e+05 3.24e+05\n",
       "Data variables:\n",
       "    calday   (tsec) float64 165.0 165.0 165.1 165.1 ... 168.6 168.7 168.7 168.8\n",
       "    nbdate   (tsec) int32 920613 920613 920613 920613 ... 920613 920613 920613\n",
       "    bdate    (tsec) int32 920613 920613 920613 920613 ... 920613 920613 920613\n",
       "    phis     (tsec, lat, lon) float32 0.0 0.0 0.0 0.0 0.0 ... 0.0 0.0 0.0 0.0\n",
       "    Ps       (tsec, lat, lon) float32 102900.0 102900.0 ... 102900.0 102900.0\n",
       "    Tg       (tsec, lat, lon) float64 291.1 291.0 290.9 ... 281.6 281.5 281.4\n",
       "    T        (tsec, lev, lat, lon) float32 268.8749 267.1764 ... 290.3636\n",
       "    q        (tsec, lev, lat, lon) float32 3.921989e-06 3.824483e-06 ... 0.0102\n",
       "    u        (tsec, lev, lat, lon) float32 -2.0 -2.0 -2.0 ... -0.7 -0.7 -0.7\n",
       "    ug       (tsec, lev, lat, lon) float32 -2.0 -2.0 -2.0 ... -2.0 -2.0 -2.0\n",
       "    v        (tsec, lev, lat, lon) float32 -10.0 -10.0 -10.0 ... -10.0 -10.0\n",
       "    vg       (tsec, lev, lat, lon) float32 -10.0 -10.0 -10.0 ... -10.0 -10.0\n",
       "    divT     (tsec, lev, lat, lon) float32 0.0 0.0 0.0 0.0 ... 0.0 0.0 0.0 0.0\n",
       "    divq     (tsec, lev, lat, lon) float32 0.0 0.0 0.0 0.0 ... 0.0 0.0 0.0 0.0\n",
       "    omega    (tsec, lev, lat, lon) float32 -0.0 0.00020445864 ... 0.0184037 -0.0\n",
       "    o3mmr    (tsec, lev, lat, lon) float32 4.653399e-06 ... 1.30223e-07\n",
       "    tke      (tsec, lev, lat, lon) float32 0.0 0.0 0.0 0.0 ... 0.0 1.0 1.0 1.0\n",
       "Attributes:\n",
       "    author:       Peter Blossey, pblossey@u.washington.edu\n",
       "    institution:  University of Washington\n",
       "    Conventions:  CF-1.3\n",
       "    date:         16-Mar-2011\n",
       "    comment:      Forcing file for GCSS BLCWG Astex transition intercompariso..."
      ]
     },
     "execution_count": 22,
     "metadata": {},
     "output_type": "execute_result"
    }
   ],
   "source": [
    "# Drop some variables \n",
    "f_out.drop(['year', 'month', 'day', 'hour'])"
   ]
  },
  {
   "cell_type": "code",
   "execution_count": 23,
   "metadata": {},
   "outputs": [],
   "source": [
    "#Drop (as array) and Add (as scalar) the nbdate and bdate\n",
    "f_out['nbdate'] = f['nbdate']\n",
    "f_out['bdate'] = f['bdate']"
   ]
  },
  {
   "cell_type": "code",
   "execution_count": 24,
   "metadata": {},
   "outputs": [],
   "source": [
    "from datetime import date\n",
    "\n",
    "f_out.attrs[\"author\"] = \"Youtong Zheng, zhengyoutong@gmail.com\"\n",
    "f_out.attrs[\"institution\"] = \"University of Maryland\"\n",
    "f_out.attrs[\"date\"] = str(date.today())\n",
    "f_out.attrs[\"comment\"] = \"Modified from forcing file for GCSS BLCWG Astex transition intercompariso...\""
   ]
  },
  {
   "cell_type": "code",
   "execution_count": 26,
   "metadata": {},
   "outputs": [
    {
     "data": {
      "text/plain": [
       "<xarray.Dataset>\n",
       "Dimensions:  (lat: 1, lev: 34, lon: 1, tsec: 91)\n",
       "Coordinates:\n",
       "  * lev      (lev) float32 100.0 200.0 300.0 ... 95140.25 99185.59 102900.0\n",
       "  * lon      (lon) float32 -25.0\n",
       "  * lat      (lat) float32 34.0\n",
       "  * tsec     (tsec) float64 0.0 3.6e+03 7.2e+03 ... 3.168e+05 3.204e+05 3.24e+05\n",
       "Data variables:\n",
       "    calday   (tsec) float64 165.0 165.0 165.1 165.1 ... 168.6 168.7 168.7 168.8\n",
       "    year     (tsec) int32 1992 1992 1992 1992 1992 ... 1992 1992 1992 1992 1992\n",
       "    month    (tsec) int32 6 6 6 6 6 6 6 6 6 6 6 6 6 ... 6 6 6 6 6 6 6 6 6 6 6 6\n",
       "    day      (tsec) int32 13 13 13 13 13 13 13 13 13 ... 13 13 13 13 13 13 13 13\n",
       "    hour     (tsec) float32 0.0 1.0 2.0 3.0 4.0 5.0 ... 3.0 4.0 5.0 6.0 7.0 8.0\n",
       "    nbdate   int32 ...\n",
       "    bdate    int32 ...\n",
       "    phis     (tsec, lat, lon) float32 0.0 0.0 0.0 0.0 0.0 ... 0.0 0.0 0.0 0.0\n",
       "    Ps       (tsec, lat, lon) float32 102900.0 102900.0 ... 102900.0 102900.0\n",
       "    Tg       (tsec, lat, lon) float64 291.1 291.0 290.9 ... 281.6 281.5 281.4\n",
       "    T        (tsec, lev, lat, lon) float32 268.8749 267.1764 ... 290.3636\n",
       "    q        (tsec, lev, lat, lon) float32 3.921989e-06 3.824483e-06 ... 0.0102\n",
       "    u        (tsec, lev, lat, lon) float32 -2.0 -2.0 -2.0 ... -0.7 -0.7 -0.7\n",
       "    ug       (tsec, lev, lat, lon) float32 -2.0 -2.0 -2.0 ... -2.0 -2.0 -2.0\n",
       "    v        (tsec, lev, lat, lon) float32 -10.0 -10.0 -10.0 ... -10.0 -10.0\n",
       "    vg       (tsec, lev, lat, lon) float32 -10.0 -10.0 -10.0 ... -10.0 -10.0\n",
       "    divT     (tsec, lev, lat, lon) float32 0.0 0.0 0.0 0.0 ... 0.0 0.0 0.0 0.0\n",
       "    divq     (tsec, lev, lat, lon) float32 0.0 0.0 0.0 0.0 ... 0.0 0.0 0.0 0.0\n",
       "    omega    (tsec, lev, lat, lon) float32 -0.0 0.00020445864 ... 0.0184037 -0.0\n",
       "    o3mmr    (tsec, lev, lat, lon) float32 4.653399e-06 ... 1.30223e-07\n",
       "    tke      (tsec, lev, lat, lon) float32 0.0 0.0 0.0 0.0 ... 0.0 1.0 1.0 1.0\n",
       "Attributes:\n",
       "    author:       Youtong Zheng, zhengyoutong@gmail.com\n",
       "    institution:  University of Maryland\n",
       "    Conventions:  CF-1.3\n",
       "    date:         2021-02-10\n",
       "    comment:      Modified from forcing file for GCSS BLCWG Astex transition ..."
      ]
     },
     "execution_count": 26,
     "metadata": {},
     "output_type": "execute_result"
    }
   ],
   "source": [
    "f_out"
   ]
  },
  {
   "cell_type": "code",
   "execution_count": 27,
   "metadata": {},
   "outputs": [],
   "source": [
    "f_out.to_netcdf(\n",
    "    path + 'astex_input_Tadv_' + str(Tadv) + '.nc')"
   ]
  }
 ],
 "metadata": {
  "kernelspec": {
   "display_name": "Python 3",
   "language": "python",
   "name": "python3"
  },
  "language_info": {
   "codemirror_mode": {
    "name": "ipython",
    "version": 3
   },
   "file_extension": ".py",
   "mimetype": "text/x-python",
   "name": "python",
   "nbconvert_exporter": "python",
   "pygments_lexer": "ipython3",
   "version": "3.7.7"
  }
 },
 "nbformat": 4,
 "nbformat_minor": 2
}
