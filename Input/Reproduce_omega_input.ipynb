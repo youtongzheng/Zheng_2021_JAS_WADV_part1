{
 "cells": [
  {
   "cell_type": "code",
   "execution_count": 2,
   "metadata": {},
   "outputs": [],
   "source": [
    "import numpy as np\n",
    "import matplotlib.pyplot as plt\n",
    "import xarray as xr"
   ]
  },
  {
   "cell_type": "markdown",
   "metadata": {},
   "source": [
    "### Input: pot. temp, moisture, height, and surface pessure"
   ]
  },
  {
   "cell_type": "code",
   "execution_count": 18,
   "metadata": {},
   "outputs": [],
   "source": [
    "path=\"/lustre/ytzheng/\"\n",
    "Casename = 'ASTEX_cold2.6'\n",
    "\n",
    "ff = xr.open_mfdataset(path + Casename + '/' +  '*N100.nc',\n",
    "                      combine = 'by_coords',decode_cf = False)\n",
    "\n",
    "#input\n",
    "z = ff['z'].values\n",
    "t0 = ff['THETA'].values[0]\n",
    "q0 = ff['QV'].values[0]\n",
    "pres_sfc = ff['Ps'].values[0]\n",
    "\n",
    "D = 5e-6 #s-1\n",
    "ztop = 1600 #m\n",
    "\n",
    "nzm = len(z)"
   ]
  },
  {
   "cell_type": "markdown",
   "metadata": {},
   "source": [
    "### The codes are based on original fortran code in SAM, so it is not very python-like"
   ]
  },
  {
   "cell_type": "code",
   "execution_count": 4,
   "metadata": {},
   "outputs": [],
   "source": [
    "#generate empty arrays for holding \n",
    "presr = np.zeros(nzm)\n",
    "presi = np.zeros(nzm)\n",
    "pres = np.zeros(nzm)\n",
    "tv0 = np.zeros(nzm)\n",
    "prespot = np.zeros(nzm)\n",
    "tabs0 = np.zeros(nzm)\n",
    "zi = np.zeros(nzm)\n",
    "rho = np.zeros(nzm)"
   ]
  },
  {
   "cell_type": "code",
   "execution_count": 5,
   "metadata": {},
   "outputs": [],
   "source": [
    "#compute heights between original levels: zi\n",
    "dz = np.diff(np.insert(z, 0, 0))\n",
    "dz = 0.5*(dz + np.roll(dz, -1))\n",
    "dz[0] = dz[0] + 0.5*z[0]\n",
    "dz[nzm-1] = z[nzm-1]-z[nzm-2]\n",
    "\n",
    "for k in range(1, nzm):\n",
    "    zi[k] = zi[k-1] + dz[k-1]"
   ]
  },
  {
   "cell_type": "code",
   "execution_count": 6,
   "metadata": {},
   "outputs": [],
   "source": [
    "#compute pressure\n",
    "rgas = 287.\n",
    "cp = 1005.\n",
    "ggr = 9.81 \n",
    "epsv = 0.61\n",
    "\n",
    "presr[0]=(pres_sfc/1000.)**(rgas/cp)\n",
    "presi[0]=pres_sfc\n",
    "\n",
    "for k in range(0, nzm-1):\n",
    "    q0[k]=q0[k]*1e-3\n",
    "    tv0[k]=t0[k]*(1.+epsv*q0[k])\n",
    "    presr[k+1]=presr[k]-ggr/cp/tv0[k]*(zi[k+1]-zi[k])\n",
    "    presi[k+1]=1000.*presr[k+1]**(cp/rgas)\n",
    "    pres[k] = np.exp(np.log(presi[k])+np.log(presi[k+1]/presi[k])*(z[k]-zi[k])/(zi[k+1]-zi[k]))\n",
    "    prespot[k]=(1000./pres[k])**(rgas/cp)\n",
    "    tabs0[k]=t0[k]/prespot[k]\n",
    "\n",
    "for k in range(0, nzm-1):\n",
    "     rho[k] = (presi[k]-presi[k+1])/(zi[k+1]-zi[k])/ggr*100.\n",
    "        \n",
    "pres[-1] = presi[-1]"
   ]
  },
  {
   "cell_type": "code",
   "execution_count": 9,
   "metadata": {},
   "outputs": [],
   "source": [
    "#generate vertical velocity (m/s) and omega (Pa/s) \n",
    "\n",
    "w0 = np.zeros(nzm)\n",
    "w0[z <=ztop] = -D*z[z <=ztop]\n",
    "w0[z > ztop] = -D*ztop\n",
    "omega0 = -w0*rho*ggr"
   ]
  },
  {
   "cell_type": "code",
   "execution_count": 10,
   "metadata": {},
   "outputs": [
    {
     "data": {
      "text/plain": [
       "[<matplotlib.lines.Line2D at 0x7f5f8ffb3590>]"
      ]
     },
     "execution_count": 10,
     "metadata": {},
     "output_type": "execute_result"
    },
    {
     "data": {
      "image/png": "[encoded data removed]",
      "text/plain": [
       "<Figure size 432x288 with 1 Axes>"
      ]
     },
     "metadata": {
      "needs_background": "light"
     },
     "output_type": "display_data"
    }
   ],
   "source": [
    "# check it works well\n",
    "plt.plot(w0, z)\n",
    "plt.plot(ff['WOBS'][0], z, linestyle = '--')"
   ]
  },
  {
   "cell_type": "code",
   "execution_count": 11,
   "metadata": {},
   "outputs": [],
   "source": [
    "#concatenate atmosphere until pres = 0 pa\n",
    "pres_conca = np.linspace(pres[-1], 0., 1000)\n",
    "pres_full = np.concatenate((pres[:-2], pres_conca)) "
   ]
  },
  {
   "cell_type": "code",
   "execution_count": 16,
   "metadata": {},
   "outputs": [],
   "source": [
    "#Get the omega of the concatenated layer, which has no observations. \n",
    "#I just extroplolate the omega. This is not important since the top of \n",
    "#model domain is typically lower than the top of the observation\n",
    "\n",
    "ind = np.where(z > ztop)[0]\n",
    "coef_lin = np.polyfit(pres[ind], omega0[ind], 1)\n",
    "omega0_conca = omega0[-2] + coef_lin[0]*(pres_conca - pres[-2])\n",
    "omega0_full = np.concatenate((omega0[:-2], omega0_conca)) "
   ]
  },
  {
   "cell_type": "code",
   "execution_count": 13,
   "metadata": {},
   "outputs": [],
   "source": [
    "f  = xr.open_dataset('./astex_2010_v3a_SCAMIOP.nc')"
   ]
  },
  {
   "cell_type": "code",
   "execution_count": 17,
   "metadata": {},
   "outputs": [
    {
     "data": {
      "text/plain": [
       "(1027.7372919077436, 0.0)"
      ]
     },
     "execution_count": 17,
     "metadata": {},
     "output_type": "execute_result"
    },
    {
     "data": {
      "image/png": "[encoded data removed]",
      "text/plain": [
       "<Figure size 432x288 with 1 Axes>"
      ]
     },
     "metadata": {
      "needs_background": "light"
     },
     "output_type": "display_data"
    }
   ],
   "source": [
    "omega_ori = f['omega'].isel(tsec = 0).isel(lon = 0).isel(lat = 0)\n",
    "pres_ori = f['lev']\n",
    "\n",
    "plt.plot(omega0_full, pres_full)\n",
    "plt.plot(omega_ori, pres_ori/100., linestyle = '--')\n",
    "plt.ylim([pres_full[0], pres_full[-1]])"
   ]
  },
  {
   "cell_type": "code",
   "execution_count": 20,
   "metadata": {},
   "outputs": [],
   "source": [
    "#make it as a function\n",
    "def gen_omega(z, t, q, pres_sfc, D, ztop):\n",
    "    #----Description of the function------\n",
    "    # Input:\n",
    "    # z: height (m)\n",
    "    # t: potential temperature (K)\n",
    "    # q: specific humidity (kg/kg)\n",
    "    # pres_sfc: surface pressure (hPa)\n",
    "    # D: divergence (s-1)\n",
    "    # ztop: height above which the vertical velocity is a constant (m)\n",
    "    \n",
    "    #generate empty arrays for holding \n",
    "    nzm = len(z)\n",
    "    presr = np.zeros(nzm)\n",
    "    presi = np.zeros(nzm)\n",
    "    pres = np.zeros(nzm)\n",
    "    tv = np.zeros(nzm)\n",
    "    zi = np.zeros(nzm)\n",
    "    rho = np.zeros(nzm)\n",
    "    \n",
    "    #compute heights between original levels: zi\n",
    "    dz = np.diff(np.insert(z, 0, 0))\n",
    "    dz = 0.5*(dz + np.roll(dz, -1))\n",
    "    dz[0] = dz[0] + 0.5*z[0]\n",
    "    dz[nzm-1] = z[nzm-1]-z[nzm-2]\n",
    "\n",
    "    for k in range(1, nzm):\n",
    "        zi[k] = zi[k-1] + dz[k-1]\n",
    "    \n",
    "    #compute pressure\n",
    "    rgas = 287.\n",
    "    cp = 1005.\n",
    "    ggr = 9.81 \n",
    "    epsv = 0.61\n",
    "\n",
    "    presr[0]=(pres_sfc/1000.)**(rgas/cp)\n",
    "    presi[0]=pres_sfc\n",
    "\n",
    "    for k in range(0, nzm-1):\n",
    "        q[k]=q[k]*1e-3\n",
    "        tv[k]=t[k]*(1.+epsv*q[k])\n",
    "        presr[k+1]=presr[k]-ggr/cp/tv[k]*(zi[k+1]-zi[k])\n",
    "        presi[k+1]=1000.*presr[k+1]**(cp/rgas)\n",
    "        pres[k] = np.exp(np.log(presi[k])+np.log(presi[k+1]/presi[k])*(z[k]-zi[k])/(zi[k+1]-zi[k]))\n",
    "\n",
    "    for k in range(0, nzm-1):\n",
    "         rho[k] = (presi[k]-presi[k+1])/(zi[k+1]-zi[k])/ggr*100.\n",
    "\n",
    "    pres[-1] = presi[-1]\n",
    "    \n",
    "    #generate vertical velocity (m/s) and omega (Pa/s) \n",
    "    w = np.zeros(nzm)\n",
    "    w[z <=ztop] = -D*z[z <=ztop]\n",
    "    w[z > ztop] = -D*ztop\n",
    "    omega = -w*rho*ggr\n",
    "    \n",
    "    #concatenate atmosphere until pres = 0 pa\n",
    "    pres_conca = np.linspace(pres[-1], 0., 1000)\n",
    "    pres_full = np.concatenate((pres[:-2], pres_conca)) \n",
    "    \n",
    "    #Get the omega of the concatenated layer, which has no observations. \n",
    "    #I just extroplolate the omega. This is not important since the top of \n",
    "    #model domain is typically lower than the top of the observation\n",
    "    ind = np.where(z > ztop)[0]\n",
    "    coef_lin = np.polyfit(pres[ind], omega[ind], 1)\n",
    "    omega_conca = omega[-2] + coef_lin[0]*(pres_conca - pres[-2])\n",
    "    omega_full = np.concatenate((omega[:-2], omega_conca)) \n",
    "    \n",
    "    #add pres coordinate to omega to make it a dataArray type\n",
    "    omega_out = xr.DataArray(omega_full,\n",
    "                            dims = \"lev\",\n",
    "                            coords = {\"lev\": pres_full})\n",
    "    \n",
    "    return omega_out"
   ]
  },
  {
   "cell_type": "code",
   "execution_count": 58,
   "metadata": {},
   "outputs": [],
   "source": [
    "#test the result\n",
    "z = ff['z'].values\n",
    "t = ff['THETA'].values[0]\n",
    "q = ff['QV'].values[0]\n",
    "pres_sfc = ff['Ps'].values[0]\n",
    "\n",
    "D = 5e-6 #s-1\n",
    "ztop = 1600 #m\n",
    "\n",
    "omega_out = gen_omega(z, t, q, pres_sfc, D, ztop)"
   ]
  },
  {
   "cell_type": "code",
   "execution_count": 85,
   "metadata": {},
   "outputs": [],
   "source": [
    "f=open('./ASTEX_input_height.txt',\"r\")\n",
    "lines=f.readlines()\n",
    "z=[]\n",
    "t=[]\n",
    "q=[]\n",
    "for x in lines:\n",
    "    z.append(x.split()[1])\n",
    "    t.append(x.split()[6])\n",
    "    q.append(x.split()[8])\n",
    "f.close()\n",
    "\n",
    "z = np.flip(np.array(z[1:]).astype(np.float))\n",
    "t = np.flip(np.array(t[1:]).astype(np.float))\n",
    "q = np.flip(np.array(q[1:]).astype(np.float))/1000.\n",
    "\n",
    "pres_sfc = 1029.0\n",
    "\n",
    "D = 5e-6 #s-1\n",
    "ztop = 1600 #m\n",
    "\n",
    "omega_out = gen_omega(z, t, q, pres_sfc, D, ztop)"
   ]
  },
  {
   "cell_type": "code",
   "execution_count": 87,
   "metadata": {},
   "outputs": [
    {
     "data": {
      "text/plain": [
       "(1027.7372919077436, 0.0)"
      ]
     },
     "execution_count": 87,
     "metadata": {},
     "output_type": "execute_result"
    },
    {
     "data": {
      "image/png": "[encoded data removed]",
      "text/plain": [
       "<Figure size 432x288 with 1 Axes>"
      ]
     },
     "metadata": {
      "needs_background": "light"
     },
     "output_type": "display_data"
    }
   ],
   "source": [
    "plt.plot(omega_out, omega_out.coords['lev'])\n",
    "plt.plot(omega_ori, pres_ori/100., linestyle = '--')\n",
    "plt.ylim([pres_full[0], pres_full[-1]])"
   ]
  },
  {
   "cell_type": "code",
   "execution_count": null,
   "metadata": {},
   "outputs": [],
   "source": []
  }
 ],
 "metadata": {
  "kernelspec": {
   "display_name": "Python 3",
   "language": "python",
   "name": "python3"
  },
  "language_info": {
   "codemirror_mode": {
    "name": "ipython",
    "version": 3
   },
   "file_extension": ".py",
   "mimetype": "text/x-python",
   "name": "python",
   "nbconvert_exporter": "python",
   "pygments_lexer": "ipython3",
   "version": "3.7.7"
  }
 },
 "nbformat": 4,
 "nbformat_minor": 4
}
